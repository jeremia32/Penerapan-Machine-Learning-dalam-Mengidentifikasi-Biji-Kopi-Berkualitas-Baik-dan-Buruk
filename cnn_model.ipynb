{
 "cells": [
  {
   "cell_type": "code",
   "execution_count": 4,
   "id": "f709fac2-cac1-41d6-9264-ecb85b288e52",
   "metadata": {},
   "outputs": [
    {
     "name": "stdout",
     "output_type": "stream",
     "text": [
      "Found 689 images belonging to 5 classes.\n",
      "Found 689 images belonging to 5 classes.\n",
      "Found 689 images belonging to 5 classes.\n"
     ]
    },
    {
     "name": "stderr",
     "output_type": "stream",
     "text": [
      "C:\\Users\\pasar\\anaconda3\\Lib\\site-packages\\keras\\src\\layers\\convolutional\\base_conv.py:107: UserWarning: Do not pass an `input_shape`/`input_dim` argument to a layer. When using Sequential models, prefer using an `Input(shape)` object as the first layer in the model instead.\n",
      "  super().__init__(activity_regularizer=activity_regularizer, **kwargs)\n"
     ]
    },
    {
     "name": "stdout",
     "output_type": "stream",
     "text": [
      "Epoch 1/20\n"
     ]
    },
    {
     "name": "stderr",
     "output_type": "stream",
     "text": [
      "C:\\Users\\pasar\\anaconda3\\Lib\\site-packages\\keras\\src\\trainers\\data_adapters\\py_dataset_adapter.py:122: UserWarning: Your `PyDataset` class should call `super().__init__(**kwargs)` in its constructor. `**kwargs` can include `workers`, `use_multiprocessing`, `max_queue_size`. Do not pass these arguments to `fit()`, as they will be ignored.\n",
      "  self._warn_if_super_not_called()\n"
     ]
    },
    {
     "name": "stdout",
     "output_type": "stream",
     "text": [
      "\u001b[1m21/21\u001b[0m \u001b[32m━━━━━━━━━━━━━━━━━━━━\u001b[0m\u001b[37m\u001b[0m \u001b[1m33s\u001b[0m 1s/step - accuracy: 0.5329 - loss: 0.7039 - val_accuracy: 0.6071 - val_loss: 0.5257\n",
      "Epoch 2/20\n",
      "\u001b[1m21/21\u001b[0m \u001b[32m━━━━━━━━━━━━━━━━━━━━\u001b[0m\u001b[37m\u001b[0m \u001b[1m0s\u001b[0m 7ms/step - accuracy: 0.5625 - loss: 0.5650 - val_accuracy: 0.5294 - val_loss: 0.4937\n",
      "Epoch 3/20\n"
     ]
    },
    {
     "name": "stderr",
     "output_type": "stream",
     "text": [
      "C:\\Users\\pasar\\anaconda3\\Lib\\contextlib.py:158: UserWarning: Your input ran out of data; interrupting training. Make sure that your dataset or generator can generate at least `steps_per_epoch * epochs` batches. You may need to use the `.repeat()` function when building your dataset.\n",
      "  self.gen.throw(value)\n"
     ]
    },
    {
     "name": "stdout",
     "output_type": "stream",
     "text": [
      "\u001b[1m21/21\u001b[0m \u001b[32m━━━━━━━━━━━━━━━━━━━━\u001b[0m\u001b[37m\u001b[0m \u001b[1m21s\u001b[0m 904ms/step - accuracy: 0.7536 - loss: 0.4490 - val_accuracy: 0.9167 - val_loss: 0.1878\n",
      "Epoch 4/20\n",
      "\u001b[1m21/21\u001b[0m \u001b[32m━━━━━━━━━━━━━━━━━━━━\u001b[0m\u001b[37m\u001b[0m \u001b[1m0s\u001b[0m 5ms/step - accuracy: 0.8438 - loss: 0.2317 - val_accuracy: 0.8824 - val_loss: 0.2947\n",
      "Epoch 5/20\n",
      "\u001b[1m21/21\u001b[0m \u001b[32m━━━━━━━━━━━━━━━━━━━━\u001b[0m\u001b[37m\u001b[0m \u001b[1m21s\u001b[0m 873ms/step - accuracy: 0.9079 - loss: 0.2078 - val_accuracy: 0.9762 - val_loss: 0.1006\n",
      "Epoch 6/20\n",
      "\u001b[1m21/21\u001b[0m \u001b[32m━━━━━━━━━━━━━━━━━━━━\u001b[0m\u001b[37m\u001b[0m \u001b[1m1s\u001b[0m 11ms/step - accuracy: 0.8125 - loss: 0.3206 - val_accuracy: 0.8824 - val_loss: 0.3673\n",
      "Epoch 7/20\n",
      "\u001b[1m21/21\u001b[0m \u001b[32m━━━━━━━━━━━━━━━━━━━━\u001b[0m\u001b[37m\u001b[0m \u001b[1m24s\u001b[0m 995ms/step - accuracy: 0.9584 - loss: 0.1370 - val_accuracy: 0.9673 - val_loss: 0.0784\n",
      "Epoch 8/20\n",
      "\u001b[1m21/21\u001b[0m \u001b[32m━━━━━━━━━━━━━━━━━━━━\u001b[0m\u001b[37m\u001b[0m \u001b[1m0s\u001b[0m 5ms/step - accuracy: 0.9688 - loss: 0.1054 - val_accuracy: 1.0000 - val_loss: 0.0123\n",
      "Epoch 9/20\n",
      "\u001b[1m21/21\u001b[0m \u001b[32m━━━━━━━━━━━━━━━━━━━━\u001b[0m\u001b[37m\u001b[0m \u001b[1m22s\u001b[0m 902ms/step - accuracy: 0.9785 - loss: 0.0664 - val_accuracy: 0.8780 - val_loss: 0.2868\n",
      "Epoch 10/20\n",
      "\u001b[1m21/21\u001b[0m \u001b[32m━━━━━━━━━━━━━━━━━━━━\u001b[0m\u001b[37m\u001b[0m \u001b[1m1s\u001b[0m 8ms/step - accuracy: 1.0000 - loss: 0.0194 - val_accuracy: 0.8824 - val_loss: 0.6854\n",
      "Epoch 11/20\n",
      "\u001b[1m21/21\u001b[0m \u001b[32m━━━━━━━━━━━━━━━━━━━━\u001b[0m\u001b[37m\u001b[0m \u001b[1m21s\u001b[0m 881ms/step - accuracy: 0.9510 - loss: 0.1105 - val_accuracy: 0.9955 - val_loss: 0.0297\n",
      "Epoch 12/20\n",
      "\u001b[1m21/21\u001b[0m \u001b[32m━━━━━━━━━━━━━━━━━━━━\u001b[0m\u001b[37m\u001b[0m \u001b[1m0s\u001b[0m 6ms/step - accuracy: 0.9688 - loss: 0.0462 - val_accuracy: 0.9412 - val_loss: 0.1284\n",
      "Epoch 13/20\n",
      "\u001b[1m21/21\u001b[0m \u001b[32m━━━━━━━━━━━━━━━━━━━━\u001b[0m\u001b[37m\u001b[0m \u001b[1m21s\u001b[0m 875ms/step - accuracy: 0.9747 - loss: 0.0631 - val_accuracy: 0.9866 - val_loss: 0.0282\n",
      "Epoch 14/20\n",
      "\u001b[1m21/21\u001b[0m \u001b[32m━━━━━━━━━━━━━━━━━━━━\u001b[0m\u001b[37m\u001b[0m \u001b[1m0s\u001b[0m 6ms/step - accuracy: 1.0000 - loss: 0.0100 - val_accuracy: 0.9412 - val_loss: 0.0607\n",
      "Epoch 15/20\n",
      "\u001b[1m21/21\u001b[0m \u001b[32m━━━━━━━━━━━━━━━━━━━━\u001b[0m\u001b[37m\u001b[0m \u001b[1m22s\u001b[0m 922ms/step - accuracy: 0.9986 - loss: 0.0159 - val_accuracy: 0.9122 - val_loss: 0.3055\n",
      "Epoch 16/20\n",
      "\u001b[1m21/21\u001b[0m \u001b[32m━━━━━━━━━━━━━━━━━━━━\u001b[0m\u001b[37m\u001b[0m \u001b[1m0s\u001b[0m 5ms/step - accuracy: 1.0000 - loss: 0.0193 - val_accuracy: 0.9412 - val_loss: 0.0662\n",
      "Epoch 17/20\n",
      "\u001b[1m21/21\u001b[0m \u001b[32m━━━━━━━━━━━━━━━━━━━━\u001b[0m\u001b[37m\u001b[0m \u001b[1m23s\u001b[0m 964ms/step - accuracy: 0.9821 - loss: 0.0535 - val_accuracy: 0.9762 - val_loss: 0.0579\n",
      "Epoch 18/20\n",
      "\u001b[1m21/21\u001b[0m \u001b[32m━━━━━━━━━━━━━━━━━━━━\u001b[0m\u001b[37m\u001b[0m \u001b[1m0s\u001b[0m 8ms/step - accuracy: 1.0000 - loss: 0.0098 - val_accuracy: 1.0000 - val_loss: 0.0165\n",
      "Epoch 19/20\n",
      "\u001b[1m21/21\u001b[0m \u001b[32m━━━━━━━━━━━━━━━━━━━━\u001b[0m\u001b[37m\u001b[0m \u001b[1m21s\u001b[0m 878ms/step - accuracy: 0.9874 - loss: 0.0327 - val_accuracy: 0.9985 - val_loss: 0.0042\n",
      "Epoch 20/20\n",
      "\u001b[1m21/21\u001b[0m \u001b[32m━━━━━━━━━━━━━━━━━━━━\u001b[0m\u001b[37m\u001b[0m \u001b[1m1s\u001b[0m 8ms/step - accuracy: 1.0000 - loss: 0.0040 - val_accuracy: 1.0000 - val_loss: 3.2101e-04\n"
     ]
    },
    {
     "name": "stderr",
     "output_type": "stream",
     "text": [
      "WARNING:absl:You are saving your model as an HDF5 file via `model.save()` or `keras.saving.save_model(model)`. This file format is considered legacy. We recommend using instead the native Keras format, e.g. `model.save('my_model.keras')` or `keras.saving.save_model(model, 'my_model.keras')`. \n"
     ]
    },
    {
     "name": "stdout",
     "output_type": "stream",
     "text": [
      "Model berhasil disimpan sebagai 'kopi_model_v2.h5'\n",
      "\u001b[1m21/21\u001b[0m \u001b[32m━━━━━━━━━━━━━━━━━━━━\u001b[0m\u001b[37m\u001b[0m \u001b[1m7s\u001b[0m 349ms/step - accuracy: 0.9987 - loss: 0.0035\n",
      "Test accuracy: 99.70%\n"
     ]
    }
   ],
   "source": [
    "import tensorflow as tf\n",
    "from tensorflow.keras import layers, models\n",
    "from tensorflow.keras.preprocessing.image import ImageDataGenerator\n",
    "\n",
    "# Path ke dataset yang telah dibagi\n",
    "train_dir = 'C:/Users/pasar/Machine Learning/ML_Project/Original_dataset'\n",
    "val_dir = 'C:/Users/pasar/Machine Learning/ML_Project/Original_dataset'\n",
    "test_dir = 'C:/Users/pasar/Machine Learning/ML_Project/Original_dataset'\n",
    "\n",
    "# ImageDataGenerator dengan augmentasi untuk data training\n",
    "train_datagen = ImageDataGenerator(\n",
    "    rescale=1./255,\n",
    "    shear_range=0.2,\n",
    "    zoom_range=0.2,\n",
    "    horizontal_flip=True\n",
    ")\n",
    "val_datagen = ImageDataGenerator(rescale=1./255)\n",
    "test_datagen = ImageDataGenerator(rescale=1./255)\n",
    "\n",
    "# Menggunakan flow_from_directory dengan direktori yang tepat\n",
    "train_generator = train_datagen.flow_from_directory(\n",
    "    train_dir,\n",
    "    target_size=(150, 150),\n",
    "    batch_size=32,\n",
    "    class_mode='binary'\n",
    ")\n",
    "\n",
    "validation_generator = val_datagen.flow_from_directory(\n",
    "    val_dir,\n",
    "    target_size=(150, 150),\n",
    "    batch_size=32,\n",
    "    class_mode='binary'\n",
    ")\n",
    "\n",
    "test_generator = test_datagen.flow_from_directory(\n",
    "    test_dir,\n",
    "    target_size=(150, 150),\n",
    "    batch_size=32,\n",
    "    class_mode='binary'\n",
    ")\n",
    "\n",
    "# Arsitektur model CNN dengan lebih banyak lapisan\n",
    "model = models.Sequential([\n",
    "    layers.Conv2D(32, (3, 3), activation='relu', input_shape=(150, 150, 3)),\n",
    "    layers.MaxPooling2D((2, 2)),\n",
    "    layers.Conv2D(64, (3, 3), activation='relu'),\n",
    "    layers.MaxPooling2D((2, 2)),\n",
    "    layers.Conv2D(128, (3, 3), activation='relu'),\n",
    "    layers.MaxPooling2D((2, 2)),\n",
    "    layers.Conv2D(128, (3, 3), activation='relu'),\n",
    "    layers.MaxPooling2D((2, 2)),\n",
    "    layers.Flatten(),\n",
    "    layers.Dropout(0.5),\n",
    "    layers.Dense(128, activation='relu'),\n",
    "    layers.Dropout(0.5),\n",
    "    layers.Dense(1, activation='sigmoid')\n",
    "])\n",
    "\n",
    "# Menyusun model\n",
    "model.compile(optimizer='adam', loss='binary_crossentropy', metrics=['accuracy'])\n",
    "\n",
    "# Melatih model\n",
    "history = model.fit(\n",
    "    train_generator,\n",
    "    steps_per_epoch=train_generator.samples // train_generator.batch_size,\n",
    "    epochs=20,  # Jumlah epoch lebih banyak\n",
    "    validation_data=validation_generator,\n",
    "    validation_steps=validation_generator.samples // validation_generator.batch_size\n",
    ")\n",
    "\n",
    "# Menyimpan model\n",
    "model.save('kopi_model_v2.h5')\n",
    "print(\"Model berhasil disimpan sebagai 'kopi_model_v2.h5'\")\n",
    "\n",
    "# Evaluasi model\n",
    "test_loss, test_acc = model.evaluate(test_generator, steps=test_generator.samples // test_generator.batch_size)\n",
    "print(f'Test accuracy: {test_acc * 100:.2f}%')\n"
   ]
  },
  {
   "cell_type": "code",
   "execution_count": 6,
   "id": "da233bdd-2029-4e0b-b572-789e59a08707",
   "metadata": {},
   "outputs": [
    {
     "name": "stderr",
     "output_type": "stream",
     "text": [
      "WARNING:absl:Compiled the loaded model, but the compiled metrics have yet to be built. `model.compile_metrics` will be empty until you train or evaluate the model.\n"
     ]
    },
    {
     "name": "stdout",
     "output_type": "stream",
     "text": [
      "\u001b[1m1/1\u001b[0m \u001b[32m━━━━━━━━━━━━━━━━━━━━\u001b[0m\u001b[37m\u001b[0m \u001b[1m0s\u001b[0m 221ms/step\n",
      "Gambar diklasifikasikan sebagai kelas 1.\n"
     ]
    }
   ],
   "source": [
    "import tensorflow as tf\n",
    "from tensorflow.keras.preprocessing import image\n",
    "import numpy as np\n",
    "\n",
    "# Load model yang sudah dilatih\n",
    "model = tf.keras.models.load_model('kopi_model_v2.h5')\n",
    "\n",
    "# Fungsi untuk memuat dan memproses gambar baru\n",
    "def prepare_image(img_path, target_size=(150, 150)):\n",
    "    # Muat gambar\n",
    "    img = image.load_img(img_path, target_size=target_size)\n",
    "    # Ubah gambar menjadi array\n",
    "    img_array = image.img_to_array(img)\n",
    "    # Tambah dimensi agar sesuai dengan input model (batch size, height, width, channels)\n",
    "    img_array = np.expand_dims(img_array, axis=0)\n",
    "    # Rescale gambar sama seperti pada data training\n",
    "    img_array /= 255.0\n",
    "    return img_array\n",
    "\n",
    "# Path gambar baru\n",
    "img_path = r'C:\\Users\\pasar\\Machine Learning\\ML_Project\\buruk.jpg'\n",
    "\n",
    "# Proses gambar\n",
    "img = prepare_image(img_path)\n",
    "\n",
    "# Prediksi dengan model\n",
    "prediction = model.predict(img)\n",
    "\n",
    "# Tampilkan hasil prediksi\n",
    "if prediction[0] > 0.5:\n",
    "    print(\"Gambar diklasifikasikan sebagai kelas 1.\")\n",
    "else:\n",
    "    print(\"Gambar diklasifikasikan sebagai kelas 0.\")\n"
   ]
  },
  {
   "cell_type": "code",
   "execution_count": 8,
   "id": "8fa85b88-8f8f-4277-b002-7bd6f0dc76db",
   "metadata": {},
   "outputs": [
    {
     "name": "stderr",
     "output_type": "stream",
     "text": [
      "WARNING:absl:Compiled the loaded model, but the compiled metrics have yet to be built. `model.compile_metrics` will be empty until you train or evaluate the model.\n"
     ]
    },
    {
     "name": "stdout",
     "output_type": "stream",
     "text": [
      "\u001b[1m1/1\u001b[0m \u001b[32m━━━━━━━━━━━━━━━━━━━━\u001b[0m\u001b[37m\u001b[0m \u001b[1m0s\u001b[0m 199ms/step\n",
      "Gambar diklasifikasikan sebagai kelas 0.\n"
     ]
    }
   ],
   "source": [
    "import tensorflow as tf\n",
    "from tensorflow.keras.preprocessing import image\n",
    "import numpy as np\n",
    "\n",
    "# Load model yang sudah dilatih\n",
    "model = tf.keras.models.load_model('kopi_model_v2.h5')\n",
    "\n",
    "# Fungsi untuk memuat dan memproses gambar baru\n",
    "def prepare_image(img_path, target_size=(150, 150)):\n",
    "    # Muat gambar\n",
    "    img = image.load_img(img_path, target_size=target_size)\n",
    "    # Ubah gambar menjadi array\n",
    "    img_array = image.img_to_array(img)\n",
    "    # Tambah dimensi agar sesuai dengan input model (batch size, height, width, channels)\n",
    "    img_array = np.expand_dims(img_array, axis=0)\n",
    "    # Rescale gambar sama seperti pada data training\n",
    "    img_array /= 255.0\n",
    "    return img_array\n",
    "\n",
    "# Path gambar baru\n",
    "img_path = r'C:\\Users\\pasar\\Machine Learning\\ML_Project\\baik.jpg'\n",
    "\n",
    "# Proses gambar\n",
    "img = prepare_image(img_path)\n",
    "\n",
    "# Prediksi dengan model\n",
    "prediction = model.predict(img)\n",
    "\n",
    "# Tampilkan hasil prediksi\n",
    "if prediction[0] > 0.5:\n",
    "    print(\"Gambar diklasifikasikan sebagai kelas 1.\")\n",
    "else:\n",
    "    print(\"Gambar diklasifikasikan sebagai kelas 0.\")\n"
   ]
  },
  {
   "cell_type": "code",
   "execution_count": 12,
   "id": "55ef0133-a7f3-4b73-a93f-152b45c51242",
   "metadata": {},
   "outputs": [
    {
     "name": "stderr",
     "output_type": "stream",
     "text": [
      "WARNING:absl:Compiled the loaded model, but the compiled metrics have yet to be built. `model.compile_metrics` will be empty until you train or evaluate the model.\n"
     ]
    },
    {
     "name": "stdout",
     "output_type": "stream",
     "text": [
      "\u001b[1m1/1\u001b[0m \u001b[32m━━━━━━━━━━━━━━━━━━━━\u001b[0m\u001b[37m\u001b[0m \u001b[1m0s\u001b[0m 189ms/step\n",
      "Gambar diklasifikasikan sebagai 'berkualitas baik' (kelas 0).\n"
     ]
    }
   ],
   "source": [
    "import tensorflow as tf\n",
    "from tensorflow.keras.preprocessing import image\n",
    "import numpy as np\n",
    "\n",
    "# Load model yang sudah dilatih\n",
    "model = tf.keras.models.load_model('kopi_model_v2.h5')\n",
    "\n",
    "# Fungsi untuk memuat dan memproses gambar baru\n",
    "def prepare_image(img_path, target_size=(150, 150)):\n",
    "    # Muat gambar\n",
    "    img = image.load_img(img_path, target_size=target_size)\n",
    "    # Ubah gambar menjadi array\n",
    "    img_array = image.img_to_array(img)\n",
    "    # Tambah dimensi agar sesuai dengan input model (batch size, height, width, channels)\n",
    "    img_array = np.expand_dims(img_array, axis=0)\n",
    "    # Rescale gambar sama seperti pada data training\n",
    "    img_array /= 255.0\n",
    "    return img_array\n",
    "\n",
    "# Path gambar baru\n",
    "img_path = r'C:\\Users\\pasar\\Machine Learning\\ML_Project\\baik.jpg'\n",
    "\n",
    "# Proses gambar\n",
    "img = prepare_image(img_path)\n",
    "\n",
    "# Prediksi dengan model\n",
    "prediction = model.predict(img)\n",
    "\n",
    "# Tampilkan hasil prediksi sesuai definisi kelas\n",
    "if prediction[0] > 0.5:\n",
    "    print(\"Gambar diklasifikasikan sebagai 'berkualitas buruk' (kelas 1).\")\n",
    "else:\n",
    "    print(\"Gambar diklasifikasikan sebagai 'berkualitas baik' (kelas 0).\")\n"
   ]
  },
  {
   "cell_type": "code",
   "execution_count": 14,
   "id": "94f1fca5-f072-4048-b1a9-04d6656c32fe",
   "metadata": {},
   "outputs": [
    {
     "name": "stderr",
     "output_type": "stream",
     "text": [
      "WARNING:absl:Compiled the loaded model, but the compiled metrics have yet to be built. `model.compile_metrics` will be empty until you train or evaluate the model.\n"
     ]
    },
    {
     "name": "stdout",
     "output_type": "stream",
     "text": [
      "\u001b[1m1/1\u001b[0m \u001b[32m━━━━━━━━━━━━━━━━━━━━\u001b[0m\u001b[37m\u001b[0m \u001b[1m0s\u001b[0m 120ms/step\n",
      "Gambar diklasifikasikan sebagai 'berkualitas buruk' (kelas 1).\n"
     ]
    }
   ],
   "source": [
    "import tensorflow as tf\n",
    "from tensorflow.keras.preprocessing import image\n",
    "import numpy as np\n",
    "\n",
    "# Load model yang sudah dilatih\n",
    "model = tf.keras.models.load_model('kopi_model_v2.h5')\n",
    "\n",
    "# Fungsi untuk memuat dan memproses gambar baru\n",
    "def prepare_image(img_path, target_size=(150, 150)):\n",
    "    # Muat gambar\n",
    "    img = image.load_img(img_path, target_size=target_size)\n",
    "    # Ubah gambar menjadi array\n",
    "    img_array = image.img_to_array(img)\n",
    "    # Tambah dimensi agar sesuai dengan input model (batch size, height, width, channels)\n",
    "    img_array = np.expand_dims(img_array, axis=0)\n",
    "    # Rescale gambar sama seperti pada data training\n",
    "    img_array /= 255.0\n",
    "    return img_array\n",
    "\n",
    "# Path gambar baru\n",
    "img_path = r'C:\\Users\\pasar\\Machine Learning\\ML_Project\\buruk.jpg'\n",
    "\n",
    "# Proses gambar\n",
    "img = prepare_image(img_path)\n",
    "\n",
    "# Prediksi dengan model\n",
    "prediction = model.predict(img)\n",
    "\n",
    "# Tampilkan hasil prediksi sesuai definisi kelas\n",
    "if prediction[0] > 0.5:\n",
    "    print(\"Gambar diklasifikasikan sebagai 'berkualitas buruk' (kelas 1).\")\n",
    "else:\n",
    "    print(\"Gambar diklasifikasikan sebagai 'berkualitas baik' (kelas 0).\")\n"
   ]
  },
  {
   "cell_type": "code",
   "execution_count": 1,
   "id": "c76e3106-4680-4181-8e3a-198a623b63a0",
   "metadata": {},
   "outputs": [
    {
     "name": "stderr",
     "output_type": "stream",
     "text": [
      "WARNING:absl:Compiled the loaded model, but the compiled metrics have yet to be built. `model.compile_metrics` will be empty until you train or evaluate the model.\n"
     ]
    },
    {
     "name": "stdout",
     "output_type": "stream",
     "text": [
      "\u001b[1m1/1\u001b[0m \u001b[32m━━━━━━━━━━━━━━━━━━━━\u001b[0m\u001b[37m\u001b[0m \u001b[1m1s\u001b[0m 575ms/step\n",
      "Gambar diklasifikasikan sebagai 'berkualitas buruk' (kelas 1).\n"
     ]
    }
   ],
   "source": [
    "import tensorflow as tf\n",
    "from tensorflow.keras.preprocessing import image\n",
    "import numpy as np\n",
    "\n",
    "# Load model yang sudah dilatih\n",
    "model = tf.keras.models.load_model('kopi_model_v2.h5')\n",
    "\n",
    "# Fungsi untuk memuat dan memproses gambar baru\n",
    "def prepare_image(img_path, target_size=(150, 150)):\n",
    "    # Muat gambar\n",
    "    img = image.load_img(img_path, target_size=target_size)\n",
    "    # Ubah gambar menjadi array\n",
    "    img_array = image.img_to_array(img)\n",
    "    # Tambah dimensi agar sesuai dengan input model (batch size, height, width, channels)\n",
    "    img_array = np.expand_dims(img_array, axis=0)\n",
    "    # Rescale gambar sama seperti pada data training\n",
    "    img_array /= 255.0\n",
    "    return img_array\n",
    "\n",
    "# Path gambar baru\n",
    "img_path = r'C:\\Users\\pasar\\Machine Learning\\ML_Project\\buruk2.jpg'\n",
    "\n",
    "# Proses gambar\n",
    "img = prepare_image(img_path)\n",
    "\n",
    "# Prediksi dengan model\n",
    "prediction = model.predict(img)\n",
    "\n",
    "# Tampilkan hasil prediksi sesuai definisi kelas\n",
    "if prediction[0] > 0.5:\n",
    "    print(\"Gambar diklasifikasikan sebagai 'berkualitas buruk' (kelas 1).\")\n",
    "else:\n",
    "    print(\"Gambar diklasifikasikan sebagai 'berkualitas baik' (kelas 0).\")\n"
   ]
  },
  {
   "cell_type": "code",
   "execution_count": null,
   "id": "296bd6bd-cae4-4d96-90e6-74a17fa0c3d8",
   "metadata": {},
   "outputs": [],
   "source": []
  }
 ],
 "metadata": {
  "kernelspec": {
   "display_name": "Python 3 (ipykernel)",
   "language": "python",
   "name": "python3"
  },
  "language_info": {
   "codemirror_mode": {
    "name": "ipython",
    "version": 3
   },
   "file_extension": ".py",
   "mimetype": "text/x-python",
   "name": "python",
   "nbconvert_exporter": "python",
   "pygments_lexer": "ipython3",
   "version": "3.12.4"
  }
 },
 "nbformat": 4,
 "nbformat_minor": 5
}
